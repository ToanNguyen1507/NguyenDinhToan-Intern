{
  "nbformat": 4,
  "nbformat_minor": 0,
  "metadata": {
    "colab": {
      "name": "Intern-NguyenDinhToan.ipynb",
      "provenance": []
    },
    "kernelspec": {
      "name": "python3",
      "display_name": "Python 3"
    },
    "language_info": {
      "name": "python"
    }
  },
  "cells": [
    {
      "cell_type": "code",
      "source": [
        "def findMax5(a):\n",
        "    temp = a\n",
        "    b = []\n",
        "    for i in range(5):\n",
        "        max = temp[0]\n",
        "        for j in range(1, len(temp)):\n",
        "            if temp[j] > max:\n",
        "                max = temp[j]\n",
        "        b.append(max)\n",
        "        temp.remove(max)\n",
        "    return b\n",
        "print(findMax5([1,24,43,34,5,6,2]))"
      ],
      "metadata": {
        "colab": {
          "base_uri": "https://localhost:8080/"
        },
        "id": "BpWBR8ZWydEZ",
        "outputId": "b79d80f6-e235-452a-852f-93d943120032"
      },
      "execution_count": 6,
      "outputs": [
        {
          "output_type": "stream",
          "name": "stdout",
          "text": [
            "[43, 34, 24, 6, 5]\n"
          ]
        }
      ]
    },
    {
      "cell_type": "code",
      "source": [
        "def findFrequent(a):\n",
        "    temp=[]\n",
        "    count=[]\n",
        "    for i in a:\n",
        "        for j in range(len(temp)):\n",
        "            if temp[j] == i:\n",
        "                count[j] = count[j] + 1\n",
        "                break\n",
        "        temp.append(i)\n",
        "        count.append(1)\n",
        "    max = 1\n",
        "    pos = 0\n",
        "    for i in count:\n",
        "        if i > max:\n",
        "            max = i\n",
        "    for i in range(len(count)):\n",
        "        if count[i] == max:\n",
        "            return temp[i]\n",
        "\n",
        "print(findFrequent([\"null\", \"null\", 12, 3]))"
      ],
      "metadata": {
        "colab": {
          "base_uri": "https://localhost:8080/"
        },
        "id": "Uv-hJvaJynp5",
        "outputId": "b373b6e6-c15c-466b-fae4-91b262145b31"
      },
      "execution_count": 5,
      "outputs": [
        {
          "output_type": "stream",
          "name": "stdout",
          "text": [
            "null\n"
          ]
        }
      ]
    }
  ]
}